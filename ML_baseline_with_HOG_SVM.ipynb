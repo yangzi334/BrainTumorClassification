{
 "cells": [
  {
   "cell_type": "code",
   "execution_count": 1,
   "metadata": {},
   "outputs": [],
   "source": [
    "# establish a baseline performance\n",
    "import os\n",
    "import json\n",
    "import numpy as np\n",
    "from skimage.io import imread \n",
    "from skimage.transform import resize\n",
    "from skimage.feature import hog\n",
    "from sklearn.svm import SVC\n",
    "from sklearn.metrics import classification_report\n",
    "\n"
   ]
  },
  {
   "cell_type": "code",
   "execution_count": 2,
   "metadata": {},
   "outputs": [],
   "source": [
    "PROJECT_ROOT = os.getcwd()"
   ]
  },
  {
   "cell_type": "code",
   "execution_count": 3,
   "metadata": {},
   "outputs": [],
   "source": [
    "root = os.path.join(PROJECT_ROOT, 'brain tumor data')"
   ]
  },
  {
   "cell_type": "code",
   "execution_count": 4,
   "metadata": {},
   "outputs": [
    {
     "data": {
      "text/plain": [
       "['test', 'valid', 'README.txt', 'train']"
      ]
     },
     "execution_count": 4,
     "metadata": {},
     "output_type": "execute_result"
    }
   ],
   "source": [
    "os.listdir(root) "
   ]
  },
  {
   "cell_type": "code",
   "execution_count": 5,
   "metadata": {},
   "outputs": [],
   "source": [
    "test_path = root+'/test/'\n",
    "train_path = root+'/train/'\n",
    "validation_path = root + '/valid/'\n",
    "fixed_annotation_file = root + '/train/fixed_annotations.json'"
   ]
  },
  {
   "cell_type": "code",
   "execution_count": 6,
   "metadata": {},
   "outputs": [],
   "source": [
    "# load annotation and get image path and labels\n",
    "def load_data(fixed_annotation_file, train_path):\n",
    "    with open(fixed_annotation_file, 'r') as f:\n",
    "        coco_data = json.load(f)\n",
    "        \n",
    "    image_id_to_label = {ann['image_id']: ann['category_id'] for ann in coco_data['annotations']}\n",
    "    image_list = []\n",
    "    label_list = []\n",
    "\n",
    "    for img in coco_data['images']:\n",
    "        file_name = img['file_name']\n",
    "        img_id = img['id']\n",
    "        label = image_id_to_label.get(img_id) # use get(img_id) is to look up the category_id(label) for the image using its ID\n",
    "\n",
    "        if label is not None:\n",
    "            image_path = os.path.join(train_path, file_name)\n",
    "            image_list.append(image_path)\n",
    "            label_list.append(label - 1) # convert category_id 1 and 2 to label 0 and 1\n",
    "    \n",
    "    return image_list , label_list\n",
    "    \n"
   ]
  },
  {
   "cell_type": "code",
   "execution_count": 7,
   "metadata": {},
   "outputs": [],
   "source": [
    "# extract HOG features\n",
    "def extract_hog_features(train_path, img_size=(128,128)):\n",
    "    features = []\n",
    "    feature_length_printed = False\n",
    "    for path in train_path:\n",
    "        try:\n",
    "            image = imread(path, as_gray=True)\n",
    "            image = resize(image, img_size)\n",
    "            hog_feature = hog(image, pixels_per_cell=(16,16), cells_per_block=(2,2), feature_vector=True)\n",
    "            if not feature_length_printed:\n",
    "                feature_length_printed = True\n",
    "            features.append(hog_feature)   \n",
    "               \n",
    "        except Exception as e:\n",
    "            print(f\"Fail to process {path}: {e}\")\n",
    "    \n",
    "    return np.array(features)\n",
    "\n"
   ]
  },
  {
   "cell_type": "code",
   "execution_count": 8,
   "metadata": {},
   "outputs": [],
   "source": [
    "# define the path\n",
    "train_ann = train_path + 'fixed_annotations.json'\n",
    "train_img_dir = root + '/train'"
   ]
  },
  {
   "cell_type": "code",
   "execution_count": 9,
   "metadata": {},
   "outputs": [],
   "source": [
    "# load validation data\n",
    "val_ann = validation_path + '_annotations.coco.json'\n",
    "val_img_dir = root + '/valid'"
   ]
  },
  {
   "cell_type": "code",
   "execution_count": 10,
   "metadata": {},
   "outputs": [
    {
     "name": "stdout",
     "output_type": "stream",
     "text": [
      "\n",
      "===== Run 1 =====\n",
      "              precision    recall  f1-score   support\n",
      "\n",
      "           0       0.93      0.93      0.93       210\n",
      "           1       0.93      0.94      0.93       219\n",
      "\n",
      "    accuracy                           0.93       429\n",
      "   macro avg       0.93      0.93      0.93       429\n",
      "weighted avg       0.93      0.93      0.93       429\n",
      "\n",
      "Accuracy for run 1: 0.9324\n",
      "save best SVM + HOG model\n",
      "\n",
      "===== Run 2 =====\n",
      "              precision    recall  f1-score   support\n",
      "\n",
      "           0       0.93      0.93      0.93       210\n",
      "           1       0.93      0.94      0.93       219\n",
      "\n",
      "    accuracy                           0.93       429\n",
      "   macro avg       0.93      0.93      0.93       429\n",
      "weighted avg       0.93      0.93      0.93       429\n",
      "\n",
      "Accuracy for run 2: 0.9324\n",
      "\n",
      "===== Run 3 =====\n",
      "              precision    recall  f1-score   support\n",
      "\n",
      "           0       0.93      0.93      0.93       210\n",
      "           1       0.93      0.94      0.93       219\n",
      "\n",
      "    accuracy                           0.93       429\n",
      "   macro avg       0.93      0.93      0.93       429\n",
      "weighted avg       0.93      0.93      0.93       429\n",
      "\n",
      "Accuracy for run 3: 0.9324\n",
      "\n",
      "Best model saved to: base_SVM_HOG_new/best_svm_hog_model.pkl\n",
      "\n",
      "Duration: 87 seconds\n",
      "\n",
      "=== Final Averaged Result ===\n",
      "Validation Accuracy: 0.9324 +- 0.0000\n"
     ]
    }
   ],
   "source": [
    "import os\n",
    "import random\n",
    "from sklearn.metrics import classification_report, accuracy_score\n",
    "import numpy as np\n",
    "from sklearn.svm import SVC\n",
    "from joblib import dump\n",
    "import time\n",
    "from tqdm import tqdm\n",
    "\n",
    "save_dir_svm = os.path.join(PROJECT_ROOT, 'base_SVM_HOG_new')\n",
    "os.makedirs(save_dir_svm,exist_ok = True)\n",
    "\n",
    "num_runs = 3\n",
    "accuracies = []\n",
    "best_acc = 0.0\n",
    "best_model = None\n",
    "start_time = time.time()\n",
    "\n",
    "for run in range(num_runs):\n",
    "    print(f\"\\n===== Run {run + 1} =====\")\n",
    "    random.seed(42 + run)\n",
    "    # load training data\n",
    "    X_train_paths, y_train = load_data(train_ann, train_img_dir)\n",
    "    combined_train = list(zip(X_train_paths, y_train))\n",
    "    random.shuffle(combined_train)\n",
    "    X_train_paths, y_train = zip(*combined_train)\n",
    "\n",
    "    X_val_paths, y_val = load_data(val_ann, val_img_dir)\n",
    "    combined_val = list(zip(X_val_paths, y_val))\n",
    "    random.shuffle(combined_val)\n",
    "    X_val_paths, y_val = zip(*combined_val)\n",
    "\n",
    "    # extract HOG features\n",
    "    X_train = extract_hog_features(X_train_paths)\n",
    "    X_val = extract_hog_features(X_val_paths)\n",
    "\n",
    "    # train SVM classifier\n",
    "    clf = SVC(kernel='linear', probability=True)\n",
    "    clf.fit(X_train, y_train)\n",
    "\n",
    "    y_pred = clf.predict(X_val)\n",
    "    acc = accuracy_score(y_val, y_pred)\n",
    "    print(classification_report(y_val, y_pred))\n",
    "    accuracies.append(acc)\n",
    "\n",
    "    print(f\"Accuracy for run {run + 1}: {acc:.4f}\")\n",
    "\n",
    "    # track the best model\n",
    "    if acc > best_acc:\n",
    "        best_acc = acc\n",
    "        best_model = clf\n",
    "        print('save best SVM + HOG model')\n",
    "\n",
    "# save the best model\n",
    "model_save_path = os.path.join(save_dir_svm, 'best_svm_hog_model.pkl')\n",
    "dump(best_model, model_save_path)\n",
    "# Print relative path only\n",
    "print(\"\\nBest model saved to:\", os.path.relpath(model_save_path))\n",
    "\n",
    "\n",
    "print(f'\\nDuration: {time.time() - start_time:.0f} seconds') # Print time elapsed\n",
    "\n",
    "# final result\n",
    "print(\"\\n=== Final Averaged Result ===\")\n",
    "print(f\"Validation Accuracy: {np.mean(accuracies):.4f} +- {np.std(accuracies):.4f}\")\n",
    "\n"
   ]
  },
  {
   "cell_type": "code",
   "execution_count": 11,
   "metadata": {},
   "outputs": [
    {
     "data": {
      "image/png": "[encoded data removed]",
      "text/plain": [
       "<Figure size 600x400 with 2 Axes>"
      ]
     },
     "metadata": {},
     "output_type": "display_data"
    }
   ],
   "source": [
    "# confusion matrix\n",
    "import matplotlib.pyplot as plt\n",
    "from sklearn.metrics import confusion_matrix\n",
    "import seaborn as sns\n",
    "\n",
    "cm = confusion_matrix(y_val, y_pred)\n",
    "plt.figure(figsize=(6,4))\n",
    "sns.heatmap(cm, annot=True, fmt='d', cmap='Blues',\n",
    "            xticklabels=['Non-Tumor', 'Tumor'],\n",
    "            yticklabels=['Non-Tumor','Tumor'])\n",
    "plt.xlabel('Predicted Label')\n",
    "plt.ylabel('True Label')\n",
    "plt.title('')\n",
    "plt.tight_layout()\n",
    "plt.show()"
   ]
  }
 ],
 "metadata": {
  "kernelspec": {
   "display_name": "myenv",
   "language": "python",
   "name": "python3"
  },
  "language_info": {
   "codemirror_mode": {
    "name": "ipython",
    "version": 3
   },
   "file_extension": ".py",
   "mimetype": "text/x-python",
   "name": "python",
   "nbconvert_exporter": "python",
   "pygments_lexer": "ipython3",
   "version": "3.9.21"
  }
 },
 "nbformat": 4,
 "nbformat_minor": 2
}
