{
 "cells": [
  {
   "cell_type": "code",
   "execution_count": 1,
   "metadata": {},
   "outputs": [],
   "source": [
    "import torch"
   ]
  },
  {
   "cell_type": "code",
   "execution_count": 2,
   "metadata": {},
   "outputs": [
    {
     "data": {
      "text/plain": [
       "True"
      ]
     },
     "execution_count": 2,
     "metadata": {},
     "output_type": "execute_result"
    }
   ],
   "source": [
    "# check if GPU is available \n",
    "torch.cuda.is_available()"
   ]
  },
  {
   "cell_type": "code",
   "execution_count": 3,
   "metadata": {},
   "outputs": [
    {
     "data": {
      "text/plain": [
       "0"
      ]
     },
     "execution_count": 3,
     "metadata": {},
     "output_type": "execute_result"
    }
   ],
   "source": [
    "torch.cuda.current_device()"
   ]
  },
  {
   "cell_type": "code",
   "execution_count": 4,
   "metadata": {},
   "outputs": [
    {
     "data": {
      "text/plain": [
       "'NVIDIA RTX A6000'"
      ]
     },
     "execution_count": 4,
     "metadata": {},
     "output_type": "execute_result"
    }
   ],
   "source": [
    "torch.cuda.get_device_name()"
   ]
  },
  {
   "cell_type": "code",
   "execution_count": 5,
   "metadata": {},
   "outputs": [
    {
     "data": {
      "text/plain": [
       "0"
      ]
     },
     "execution_count": 5,
     "metadata": {},
     "output_type": "execute_result"
    }
   ],
   "source": [
    "torch.cuda.memory_allocated()"
   ]
  },
  {
   "cell_type": "code",
   "execution_count": 6,
   "metadata": {},
   "outputs": [
    {
     "data": {
      "text/plain": [
       "0"
      ]
     },
     "execution_count": 6,
     "metadata": {},
     "output_type": "execute_result"
    }
   ],
   "source": [
    "torch.cuda.memory_reserved()"
   ]
  },
  {
   "cell_type": "code",
   "execution_count": 7,
   "metadata": {},
   "outputs": [],
   "source": [
    "import torch.nn as nn\n",
    "import torch.nn.functional as F\n",
    "from torch.utils.data import DataLoader\n",
    "from torchvision import datasets, transforms, models # add models to the list\n",
    "from torchvision.utils import make_grid\n",
    "import os\n",
    "\n",
    "import numpy as np\n",
    "import pandas as pd\n",
    "import matplotlib.pyplot as plt\n",
    "from PIL import Image\n",
    "from IPython.display import display\n",
    "%matplotlib inline\n",
    "\n",
    "# ignore harmless warnings\n",
    "import warnings\n",
    "warnings.filterwarnings(\"ignore\")"
   ]
  },
  {
   "cell_type": "code",
   "execution_count": 8,
   "metadata": {},
   "outputs": [],
   "source": [
    "PROJECT_ROOT = os.getcwd()"
   ]
  },
  {
   "cell_type": "code",
   "execution_count": 9,
   "metadata": {},
   "outputs": [],
   "source": [
    "root = os.path.join(PROJECT_ROOT, 'brain tumor data')"
   ]
  },
  {
   "cell_type": "code",
   "execution_count": 10,
   "metadata": {},
   "outputs": [
    {
     "data": {
      "text/plain": [
       "['test', 'valid', 'README.txt', 'train']"
      ]
     },
     "execution_count": 10,
     "metadata": {},
     "output_type": "execute_result"
    }
   ],
   "source": [
    "os.listdir(root) "
   ]
  },
  {
   "cell_type": "code",
   "execution_count": 11,
   "metadata": {},
   "outputs": [],
   "source": [
    "test_path = root+'/test/'\n",
    "train_path = root+'/train/'\n",
    "validation_path = root + '/valid/'"
   ]
  },
  {
   "cell_type": "code",
   "execution_count": 12,
   "metadata": {},
   "outputs": [],
   "source": [
    "import json\n",
    "annotation_file = root + '/train/_annotations.coco.json'"
   ]
  },
  {
   "cell_type": "code",
   "execution_count": 13,
   "metadata": {},
   "outputs": [],
   "source": [
    "# firstly, check annotation raw data file, and image_id should link with id in json file.\n",
    "# so find mismath image_id  and id under annotations section\n",
    "\n",
    "with open(annotation_file, \"r\") as f:\n",
    "    coco_data = json.load(f)\n",
    "\n",
    "# create a dictionary mapping correct image ids from the image section\n",
    "valid_image_ids = {img['id'] for img in coco_data['images']}\n",
    "\n"
   ]
  },
  {
   "cell_type": "code",
   "execution_count": 14,
   "metadata": {},
   "outputs": [
    {
     "name": "stdout",
     "output_type": "stream",
     "text": [
      "found annotation where id and image_id are not match:\n",
      "annotation id 1006 has image_id 1005 mismatch\n",
      "annotation id 1007 has image_id 1006 mismatch\n",
      "annotation id 1008 has image_id 1007 mismatch\n",
      "annotation id 1009 has image_id 1008 mismatch\n",
      "annotation id 1010 has image_id 1009 mismatch\n",
      "annotation id 1011 has image_id 1010 mismatch\n",
      "annotation id 1012 has image_id 1011 mismatch\n",
      "annotation id 1013 has image_id 1012 mismatch\n",
      "annotation id 1014 has image_id 1013 mismatch\n",
      "annotation id 1015 has image_id 1014 mismatch\n",
      "annotation id 1016 has image_id 1015 mismatch\n",
      "annotation id 1017 has image_id 1016 mismatch\n",
      "annotation id 1018 has image_id 1017 mismatch\n",
      "annotation id 1019 has image_id 1018 mismatch\n",
      "annotation id 1020 has image_id 1019 mismatch\n",
      "annotation id 1021 has image_id 1020 mismatch\n",
      "annotation id 1022 has image_id 1021 mismatch\n",
      "annotation id 1023 has image_id 1022 mismatch\n",
      "annotation id 1024 has image_id 1023 mismatch\n",
      "annotation id 1025 has image_id 1024 mismatch\n",
      "annotation id 1026 has image_id 1025 mismatch\n",
      "annotation id 1027 has image_id 1026 mismatch\n",
      "annotation id 1028 has image_id 1027 mismatch\n",
      "annotation id 1029 has image_id 1028 mismatch\n",
      "annotation id 1030 has image_id 1029 mismatch\n",
      "annotation id 1031 has image_id 1030 mismatch\n",
      "annotation id 1032 has image_id 1031 mismatch\n",
      "annotation id 1033 has image_id 1032 mismatch\n",
      "annotation id 1034 has image_id 1033 mismatch\n",
      "annotation id 1035 has image_id 1034 mismatch\n",
      "annotation id 1036 has image_id 1035 mismatch\n",
      "annotation id 1037 has image_id 1036 mismatch\n",
      "annotation id 1038 has image_id 1037 mismatch\n",
      "annotation id 1039 has image_id 1038 mismatch\n",
      "annotation id 1040 has image_id 1039 mismatch\n",
      "annotation id 1041 has image_id 1040 mismatch\n",
      "annotation id 1042 has image_id 1041 mismatch\n",
      "annotation id 1043 has image_id 1042 mismatch\n",
      "annotation id 1044 has image_id 1043 mismatch\n",
      "annotation id 1045 has image_id 1044 mismatch\n",
      "annotation id 1046 has image_id 1045 mismatch\n",
      "annotation id 1047 has image_id 1046 mismatch\n",
      "annotation id 1048 has image_id 1047 mismatch\n",
      "annotation id 1049 has image_id 1048 mismatch\n",
      "annotation id 1050 has image_id 1049 mismatch\n",
      "annotation id 1051 has image_id 1050 mismatch\n",
      "annotation id 1052 has image_id 1051 mismatch\n",
      "annotation id 1053 has image_id 1052 mismatch\n",
      "annotation id 1054 has image_id 1053 mismatch\n",
      "annotation id 1055 has image_id 1054 mismatch\n",
      "annotation id 1056 has image_id 1055 mismatch\n",
      "annotation id 1057 has image_id 1056 mismatch\n",
      "annotation id 1058 has image_id 1057 mismatch\n",
      "annotation id 1059 has image_id 1058 mismatch\n",
      "annotation id 1060 has image_id 1059 mismatch\n",
      "annotation id 1061 has image_id 1060 mismatch\n",
      "annotation id 1062 has image_id 1061 mismatch\n",
      "annotation id 1063 has image_id 1062 mismatch\n",
      "annotation id 1064 has image_id 1063 mismatch\n",
      "annotation id 1065 has image_id 1064 mismatch\n",
      "annotation id 1066 has image_id 1065 mismatch\n",
      "annotation id 1067 has image_id 1066 mismatch\n",
      "annotation id 1068 has image_id 1067 mismatch\n",
      "annotation id 1069 has image_id 1068 mismatch\n",
      "annotation id 1070 has image_id 1069 mismatch\n",
      "annotation id 1071 has image_id 1070 mismatch\n",
      "annotation id 1072 has image_id 1071 mismatch\n",
      "annotation id 1073 has image_id 1072 mismatch\n",
      "annotation id 1074 has image_id 1073 mismatch\n",
      "annotation id 1075 has image_id 1074 mismatch\n",
      "annotation id 1076 has image_id 1075 mismatch\n",
      "annotation id 1077 has image_id 1076 mismatch\n",
      "annotation id 1078 has image_id 1077 mismatch\n",
      "annotation id 1079 has image_id 1078 mismatch\n",
      "annotation id 1080 has image_id 1079 mismatch\n",
      "annotation id 1081 has image_id 1080 mismatch\n",
      "annotation id 1082 has image_id 1081 mismatch\n",
      "annotation id 1083 has image_id 1082 mismatch\n",
      "annotation id 1084 has image_id 1083 mismatch\n",
      "annotation id 1085 has image_id 1084 mismatch\n",
      "annotation id 1086 has image_id 1085 mismatch\n",
      "annotation id 1087 has image_id 1086 mismatch\n",
      "annotation id 1088 has image_id 1087 mismatch\n",
      "annotation id 1089 has image_id 1088 mismatch\n",
      "annotation id 1090 has image_id 1089 mismatch\n",
      "annotation id 1091 has image_id 1090 mismatch\n",
      "annotation id 1092 has image_id 1091 mismatch\n",
      "annotation id 1093 has image_id 1092 mismatch\n",
      "annotation id 1094 has image_id 1093 mismatch\n",
      "annotation id 1095 has image_id 1094 mismatch\n",
      "annotation id 1096 has image_id 1095 mismatch\n",
      "annotation id 1097 has image_id 1096 mismatch\n",
      "annotation id 1098 has image_id 1097 mismatch\n",
      "annotation id 1099 has image_id 1098 mismatch\n",
      "annotation id 1100 has image_id 1099 mismatch\n",
      "annotation id 1101 has image_id 1100 mismatch\n",
      "annotation id 1102 has image_id 1101 mismatch\n",
      "annotation id 1103 has image_id 1102 mismatch\n",
      "annotation id 1104 has image_id 1103 mismatch\n",
      "annotation id 1105 has image_id 1104 mismatch\n",
      "annotation id 1106 has image_id 1105 mismatch\n",
      "annotation id 1107 has image_id 1106 mismatch\n",
      "annotation id 1108 has image_id 1107 mismatch\n",
      "annotation id 1109 has image_id 1108 mismatch\n",
      "annotation id 1110 has image_id 1109 mismatch\n",
      "annotation id 1111 has image_id 1110 mismatch\n",
      "annotation id 1112 has image_id 1111 mismatch\n",
      "annotation id 1113 has image_id 1112 mismatch\n",
      "annotation id 1114 has image_id 1113 mismatch\n",
      "annotation id 1115 has image_id 1114 mismatch\n",
      "annotation id 1116 has image_id 1115 mismatch\n",
      "annotation id 1117 has image_id 1116 mismatch\n",
      "annotation id 1118 has image_id 1117 mismatch\n",
      "annotation id 1119 has image_id 1118 mismatch\n",
      "annotation id 1120 has image_id 1119 mismatch\n",
      "annotation id 1121 has image_id 1120 mismatch\n",
      "annotation id 1122 has image_id 1121 mismatch\n",
      "annotation id 1123 has image_id 1122 mismatch\n",
      "annotation id 1124 has image_id 1123 mismatch\n",
      "annotation id 1125 has image_id 1124 mismatch\n",
      "annotation id 1126 has image_id 1125 mismatch\n",
      "annotation id 1127 has image_id 1126 mismatch\n",
      "annotation id 1128 has image_id 1127 mismatch\n",
      "annotation id 1129 has image_id 1128 mismatch\n",
      "annotation id 1130 has image_id 1129 mismatch\n",
      "annotation id 1131 has image_id 1130 mismatch\n",
      "annotation id 1132 has image_id 1131 mismatch\n",
      "annotation id 1133 has image_id 1132 mismatch\n",
      "annotation id 1134 has image_id 1133 mismatch\n",
      "annotation id 1135 has image_id 1134 mismatch\n",
      "annotation id 1136 has image_id 1135 mismatch\n",
      "annotation id 1137 has image_id 1136 mismatch\n",
      "annotation id 1138 has image_id 1137 mismatch\n",
      "annotation id 1139 has image_id 1138 mismatch\n",
      "annotation id 1140 has image_id 1139 mismatch\n",
      "annotation id 1141 has image_id 1140 mismatch\n",
      "annotation id 1142 has image_id 1141 mismatch\n",
      "annotation id 1143 has image_id 1142 mismatch\n",
      "annotation id 1144 has image_id 1143 mismatch\n",
      "annotation id 1145 has image_id 1144 mismatch\n",
      "annotation id 1146 has image_id 1145 mismatch\n",
      "annotation id 1147 has image_id 1146 mismatch\n",
      "annotation id 1148 has image_id 1147 mismatch\n",
      "annotation id 1149 has image_id 1148 mismatch\n",
      "annotation id 1150 has image_id 1149 mismatch\n",
      "annotation id 1151 has image_id 1150 mismatch\n",
      "annotation id 1152 has image_id 1151 mismatch\n",
      "annotation id 1153 has image_id 1152 mismatch\n",
      "annotation id 1154 has image_id 1153 mismatch\n",
      "annotation id 1155 has image_id 1154 mismatch\n",
      "annotation id 1156 has image_id 1155 mismatch\n",
      "annotation id 1157 has image_id 1156 mismatch\n",
      "annotation id 1158 has image_id 1157 mismatch\n",
      "annotation id 1159 has image_id 1158 mismatch\n",
      "annotation id 1160 has image_id 1159 mismatch\n",
      "annotation id 1161 has image_id 1160 mismatch\n",
      "annotation id 1162 has image_id 1161 mismatch\n",
      "annotation id 1163 has image_id 1162 mismatch\n",
      "annotation id 1164 has image_id 1163 mismatch\n",
      "annotation id 1165 has image_id 1164 mismatch\n",
      "annotation id 1166 has image_id 1165 mismatch\n",
      "annotation id 1167 has image_id 1166 mismatch\n",
      "annotation id 1168 has image_id 1167 mismatch\n",
      "annotation id 1169 has image_id 1168 mismatch\n",
      "annotation id 1170 has image_id 1169 mismatch\n",
      "annotation id 1171 has image_id 1170 mismatch\n",
      "annotation id 1172 has image_id 1171 mismatch\n",
      "annotation id 1173 has image_id 1172 mismatch\n",
      "annotation id 1174 has image_id 1173 mismatch\n",
      "annotation id 1175 has image_id 1174 mismatch\n",
      "annotation id 1176 has image_id 1175 mismatch\n",
      "annotation id 1177 has image_id 1176 mismatch\n",
      "annotation id 1178 has image_id 1177 mismatch\n",
      "annotation id 1179 has image_id 1178 mismatch\n",
      "annotation id 1180 has image_id 1179 mismatch\n",
      "annotation id 1181 has image_id 1180 mismatch\n",
      "annotation id 1182 has image_id 1181 mismatch\n",
      "annotation id 1183 has image_id 1182 mismatch\n",
      "annotation id 1184 has image_id 1183 mismatch\n",
      "annotation id 1185 has image_id 1184 mismatch\n",
      "annotation id 1186 has image_id 1185 mismatch\n",
      "annotation id 1187 has image_id 1186 mismatch\n",
      "annotation id 1188 has image_id 1187 mismatch\n",
      "annotation id 1189 has image_id 1188 mismatch\n",
      "annotation id 1190 has image_id 1189 mismatch\n",
      "annotation id 1191 has image_id 1190 mismatch\n",
      "annotation id 1192 has image_id 1191 mismatch\n",
      "annotation id 1193 has image_id 1192 mismatch\n",
      "annotation id 1194 has image_id 1193 mismatch\n",
      "annotation id 1195 has image_id 1194 mismatch\n",
      "annotation id 1196 has image_id 1195 mismatch\n",
      "annotation id 1197 has image_id 1196 mismatch\n",
      "annotation id 1198 has image_id 1197 mismatch\n",
      "annotation id 1199 has image_id 1198 mismatch\n",
      "annotation id 1200 has image_id 1199 mismatch\n",
      "annotation id 1201 has image_id 1200 mismatch\n",
      "annotation id 1202 has image_id 1201 mismatch\n",
      "annotation id 1203 has image_id 1202 mismatch\n",
      "annotation id 1204 has image_id 1203 mismatch\n",
      "annotation id 1205 has image_id 1204 mismatch\n",
      "annotation id 1206 has image_id 1205 mismatch\n",
      "annotation id 1207 has image_id 1206 mismatch\n",
      "annotation id 1208 has image_id 1207 mismatch\n",
      "annotation id 1209 has image_id 1208 mismatch\n",
      "annotation id 1210 has image_id 1209 mismatch\n",
      "annotation id 1211 has image_id 1210 mismatch\n",
      "annotation id 1212 has image_id 1211 mismatch\n",
      "annotation id 1213 has image_id 1212 mismatch\n",
      "annotation id 1214 has image_id 1213 mismatch\n",
      "annotation id 1215 has image_id 1214 mismatch\n",
      "annotation id 1216 has image_id 1215 mismatch\n",
      "annotation id 1217 has image_id 1216 mismatch\n",
      "annotation id 1218 has image_id 1217 mismatch\n",
      "annotation id 1219 has image_id 1218 mismatch\n",
      "annotation id 1220 has image_id 1219 mismatch\n",
      "annotation id 1221 has image_id 1220 mismatch\n",
      "annotation id 1222 has image_id 1221 mismatch\n",
      "annotation id 1223 has image_id 1222 mismatch\n",
      "annotation id 1224 has image_id 1223 mismatch\n",
      "annotation id 1225 has image_id 1224 mismatch\n",
      "annotation id 1226 has image_id 1225 mismatch\n",
      "annotation id 1227 has image_id 1226 mismatch\n",
      "annotation id 1228 has image_id 1227 mismatch\n",
      "annotation id 1229 has image_id 1228 mismatch\n",
      "annotation id 1230 has image_id 1229 mismatch\n",
      "annotation id 1231 has image_id 1230 mismatch\n",
      "annotation id 1232 has image_id 1231 mismatch\n",
      "annotation id 1233 has image_id 1232 mismatch\n",
      "annotation id 1234 has image_id 1233 mismatch\n",
      "annotation id 1235 has image_id 1234 mismatch\n",
      "annotation id 1236 has image_id 1235 mismatch\n",
      "annotation id 1237 has image_id 1236 mismatch\n",
      "annotation id 1238 has image_id 1237 mismatch\n",
      "annotation id 1239 has image_id 1238 mismatch\n",
      "annotation id 1240 has image_id 1239 mismatch\n",
      "annotation id 1241 has image_id 1240 mismatch\n",
      "annotation id 1242 has image_id 1241 mismatch\n",
      "annotation id 1243 has image_id 1242 mismatch\n",
      "annotation id 1244 has image_id 1243 mismatch\n",
      "annotation id 1245 has image_id 1244 mismatch\n",
      "annotation id 1246 has image_id 1245 mismatch\n",
      "annotation id 1247 has image_id 1246 mismatch\n",
      "annotation id 1248 has image_id 1247 mismatch\n",
      "annotation id 1249 has image_id 1248 mismatch\n",
      "annotation id 1250 has image_id 1249 mismatch\n",
      "annotation id 1251 has image_id 1250 mismatch\n",
      "annotation id 1252 has image_id 1251 mismatch\n",
      "annotation id 1253 has image_id 1252 mismatch\n",
      "annotation id 1254 has image_id 1253 mismatch\n",
      "annotation id 1255 has image_id 1254 mismatch\n",
      "annotation id 1256 has image_id 1255 mismatch\n",
      "annotation id 1257 has image_id 1256 mismatch\n",
      "annotation id 1258 has image_id 1257 mismatch\n",
      "annotation id 1259 has image_id 1258 mismatch\n",
      "annotation id 1260 has image_id 1259 mismatch\n",
      "annotation id 1261 has image_id 1260 mismatch\n",
      "annotation id 1262 has image_id 1261 mismatch\n",
      "annotation id 1263 has image_id 1262 mismatch\n",
      "annotation id 1264 has image_id 1263 mismatch\n",
      "annotation id 1265 has image_id 1264 mismatch\n",
      "annotation id 1266 has image_id 1265 mismatch\n",
      "annotation id 1267 has image_id 1266 mismatch\n",
      "annotation id 1268 has image_id 1267 mismatch\n",
      "annotation id 1269 has image_id 1268 mismatch\n",
      "annotation id 1270 has image_id 1269 mismatch\n",
      "annotation id 1271 has image_id 1270 mismatch\n",
      "annotation id 1272 has image_id 1271 mismatch\n",
      "annotation id 1273 has image_id 1272 mismatch\n",
      "annotation id 1274 has image_id 1273 mismatch\n",
      "annotation id 1275 has image_id 1274 mismatch\n",
      "annotation id 1276 has image_id 1275 mismatch\n",
      "annotation id 1277 has image_id 1276 mismatch\n",
      "annotation id 1278 has image_id 1277 mismatch\n",
      "annotation id 1279 has image_id 1278 mismatch\n",
      "annotation id 1280 has image_id 1279 mismatch\n",
      "annotation id 1281 has image_id 1280 mismatch\n",
      "annotation id 1282 has image_id 1281 mismatch\n",
      "annotation id 1283 has image_id 1282 mismatch\n",
      "annotation id 1284 has image_id 1283 mismatch\n",
      "annotation id 1285 has image_id 1284 mismatch\n",
      "annotation id 1286 has image_id 1285 mismatch\n",
      "annotation id 1287 has image_id 1286 mismatch\n",
      "annotation id 1288 has image_id 1287 mismatch\n",
      "annotation id 1289 has image_id 1288 mismatch\n",
      "annotation id 1290 has image_id 1289 mismatch\n",
      "annotation id 1291 has image_id 1290 mismatch\n",
      "annotation id 1292 has image_id 1291 mismatch\n",
      "annotation id 1293 has image_id 1292 mismatch\n",
      "annotation id 1294 has image_id 1293 mismatch\n",
      "annotation id 1295 has image_id 1294 mismatch\n",
      "annotation id 1296 has image_id 1295 mismatch\n",
      "annotation id 1297 has image_id 1296 mismatch\n",
      "annotation id 1298 has image_id 1297 mismatch\n",
      "annotation id 1299 has image_id 1298 mismatch\n",
      "annotation id 1300 has image_id 1299 mismatch\n",
      "annotation id 1301 has image_id 1300 mismatch\n",
      "annotation id 1302 has image_id 1301 mismatch\n",
      "annotation id 1303 has image_id 1302 mismatch\n",
      "annotation id 1304 has image_id 1303 mismatch\n",
      "annotation id 1305 has image_id 1304 mismatch\n",
      "annotation id 1306 has image_id 1305 mismatch\n",
      "annotation id 1307 has image_id 1306 mismatch\n",
      "annotation id 1308 has image_id 1307 mismatch\n",
      "annotation id 1309 has image_id 1308 mismatch\n",
      "annotation id 1310 has image_id 1309 mismatch\n",
      "annotation id 1311 has image_id 1310 mismatch\n",
      "annotation id 1312 has image_id 1311 mismatch\n",
      "annotation id 1313 has image_id 1312 mismatch\n",
      "annotation id 1314 has image_id 1313 mismatch\n",
      "annotation id 1315 has image_id 1314 mismatch\n",
      "annotation id 1316 has image_id 1315 mismatch\n",
      "annotation id 1317 has image_id 1316 mismatch\n",
      "annotation id 1318 has image_id 1317 mismatch\n",
      "annotation id 1319 has image_id 1318 mismatch\n",
      "annotation id 1320 has image_id 1319 mismatch\n",
      "annotation id 1321 has image_id 1320 mismatch\n",
      "annotation id 1322 has image_id 1321 mismatch\n",
      "annotation id 1323 has image_id 1322 mismatch\n",
      "annotation id 1324 has image_id 1323 mismatch\n",
      "annotation id 1325 has image_id 1324 mismatch\n",
      "annotation id 1326 has image_id 1325 mismatch\n",
      "annotation id 1327 has image_id 1326 mismatch\n",
      "annotation id 1328 has image_id 1327 mismatch\n",
      "annotation id 1329 has image_id 1328 mismatch\n",
      "annotation id 1330 has image_id 1329 mismatch\n",
      "annotation id 1331 has image_id 1330 mismatch\n",
      "annotation id 1332 has image_id 1331 mismatch\n",
      "annotation id 1333 has image_id 1332 mismatch\n",
      "annotation id 1334 has image_id 1333 mismatch\n",
      "annotation id 1335 has image_id 1334 mismatch\n",
      "annotation id 1336 has image_id 1335 mismatch\n",
      "annotation id 1337 has image_id 1336 mismatch\n",
      "annotation id 1338 has image_id 1337 mismatch\n",
      "annotation id 1339 has image_id 1338 mismatch\n",
      "annotation id 1340 has image_id 1339 mismatch\n",
      "annotation id 1341 has image_id 1340 mismatch\n",
      "annotation id 1342 has image_id 1341 mismatch\n",
      "annotation id 1343 has image_id 1342 mismatch\n",
      "annotation id 1344 has image_id 1343 mismatch\n",
      "annotation id 1345 has image_id 1344 mismatch\n",
      "annotation id 1346 has image_id 1345 mismatch\n",
      "annotation id 1347 has image_id 1346 mismatch\n",
      "annotation id 1348 has image_id 1347 mismatch\n",
      "annotation id 1349 has image_id 1348 mismatch\n",
      "annotation id 1350 has image_id 1349 mismatch\n",
      "annotation id 1351 has image_id 1350 mismatch\n",
      "annotation id 1352 has image_id 1351 mismatch\n",
      "annotation id 1353 has image_id 1352 mismatch\n",
      "annotation id 1354 has image_id 1353 mismatch\n",
      "annotation id 1355 has image_id 1354 mismatch\n",
      "annotation id 1356 has image_id 1355 mismatch\n",
      "annotation id 1357 has image_id 1356 mismatch\n",
      "annotation id 1358 has image_id 1357 mismatch\n",
      "annotation id 1359 has image_id 1358 mismatch\n",
      "annotation id 1360 has image_id 1359 mismatch\n",
      "annotation id 1361 has image_id 1360 mismatch\n",
      "annotation id 1362 has image_id 1361 mismatch\n",
      "annotation id 1363 has image_id 1362 mismatch\n",
      "annotation id 1364 has image_id 1363 mismatch\n",
      "annotation id 1365 has image_id 1364 mismatch\n",
      "annotation id 1366 has image_id 1365 mismatch\n",
      "annotation id 1367 has image_id 1366 mismatch\n",
      "annotation id 1368 has image_id 1367 mismatch\n",
      "annotation id 1369 has image_id 1368 mismatch\n",
      "annotation id 1370 has image_id 1369 mismatch\n",
      "annotation id 1371 has image_id 1370 mismatch\n",
      "annotation id 1372 has image_id 1371 mismatch\n",
      "annotation id 1373 has image_id 1372 mismatch\n",
      "annotation id 1374 has image_id 1373 mismatch\n",
      "annotation id 1375 has image_id 1374 mismatch\n",
      "annotation id 1376 has image_id 1375 mismatch\n",
      "annotation id 1377 has image_id 1376 mismatch\n",
      "annotation id 1378 has image_id 1377 mismatch\n",
      "annotation id 1379 has image_id 1378 mismatch\n",
      "annotation id 1380 has image_id 1379 mismatch\n",
      "all matches\n"
     ]
    }
   ],
   "source": [
    "# find mismatches: annotation with \"image_id\" values not in the the same as \"id\" values \n",
    "mismatched_annotation = []\n",
    "for annotation in coco_data[\"annotations\"]:\n",
    "    annotation_id = annotation[\"id\"]\n",
    "    image_id = annotation[\"image_id\"]\n",
    "    if annotation_id != image_id:\n",
    "        mismatched_annotation.append((annotation_id, image_id))\n",
    "\n",
    "# print mismatch\n",
    "if mismatched_annotation:\n",
    "    print(\"found annotation where id and image_id are not match:\")\n",
    "    for annotation_id, image_id in mismatched_annotation:\n",
    "        print(f\"annotation id {annotation_id} has image_id {image_id} mismatch\")\n",
    "    else:\n",
    "        print(\"all matches\")"
   ]
  },
  {
   "cell_type": "code",
   "execution_count": 15,
   "metadata": {},
   "outputs": [],
   "source": [
    "# after checking the raw image data, image_id from 1005 does not assign correct, so raw annotation file needs to be modified:\n",
    "# for mismatched image_id , need to update to match with id under the same annotation section. \n",
    "# correct image_id to match id for each annotation\n",
    "with open(annotation_file, \"r\") as f:\n",
    "    coco_data = json.load(f)\n",
    "for annotation in coco_data[\"annotations\"]:\n",
    "    annotation[\"image_id\"] = annotation[\"id\"]"
   ]
  },
  {
   "cell_type": "code",
   "execution_count": 16,
   "metadata": {},
   "outputs": [],
   "source": [
    "# save the fixed annotation file\n",
    "\n",
    "fixed_annotation_file = os.path.join(train_path, \"fixed_annotations.coco.json\")\n",
    "with open(fixed_annotation_file, \"w\") as f:\n",
    "    json.dump(coco_data, f, indent = 4)"
   ]
  },
  {
   "cell_type": "code",
   "execution_count": 17,
   "metadata": {},
   "outputs": [],
   "source": [
    "\n",
    "import json\n"
   ]
  },
  {
   "cell_type": "code",
   "execution_count": 18,
   "metadata": {},
   "outputs": [],
   "source": [
    "with open(fixed_annotation_file, \"r\") as f:\n",
    "    fixed_coco_data = json.load(f)"
   ]
  },
  {
   "cell_type": "code",
   "execution_count": 19,
   "metadata": {},
   "outputs": [
    {
     "name": "stdout",
     "output_type": "stream",
     "text": [
      "keys in coco json file: dict_keys(['info', 'licenses', 'categories', 'images', 'annotations'])\n"
     ]
    }
   ],
   "source": [
    "print(\"keys in coco json file:\", fixed_coco_data.keys())"
   ]
  },
  {
   "cell_type": "code",
   "execution_count": 20,
   "metadata": {},
   "outputs": [
    {
     "name": "stdout",
     "output_type": "stream",
     "text": [
      "keys in coco[annotation] json file: dict_keys(['id', 'image_id', 'category_id', 'bbox', 'area', 'segmentation', 'iscrowd'])\n"
     ]
    }
   ],
   "source": [
    "# check the key inside the first annotation entry\n",
    "print(\"keys in coco[annotation] json file:\", fixed_coco_data['annotations'][0].keys())"
   ]
  },
  {
   "cell_type": "code",
   "execution_count": 21,
   "metadata": {},
   "outputs": [
    {
     "name": "stdout",
     "output_type": "stream",
     "text": [
      "keys in coco[images] json file: dict_keys(['id', 'license', 'file_name', 'height', 'width', 'date_captured'])\n"
     ]
    }
   ],
   "source": [
    "print('keys in coco[images] json file:', fixed_coco_data['images'][0].keys())"
   ]
  },
  {
   "cell_type": "code",
   "execution_count": 22,
   "metadata": {},
   "outputs": [
    {
     "name": "stdout",
     "output_type": "stream",
     "text": [
      "keys in coco[category] json file: dict_keys(['id', 'name', 'supercategory'])\n"
     ]
    }
   ],
   "source": [
    "print('keys in coco[category] json file:', fixed_coco_data['categories'][0].keys())"
   ]
  },
  {
   "cell_type": "code",
   "execution_count": 23,
   "metadata": {},
   "outputs": [
    {
     "name": "stdout",
     "output_type": "stream",
     "text": [
      "category id: 0, Name: Tumor, supercateory: none\n",
      "category id: 1, Name: 0, supercateory: Tumor\n",
      "category id: 2, Name: 1, supercateory: Tumor\n"
     ]
    }
   ],
   "source": [
    "#print all supercategory value\n",
    "for category in fixed_coco_data['categories']:\n",
    "    print(f\"category id: {category['id']}, Name: {category['name']}, supercateory: {category['supercategory']}\")\n"
   ]
  },
  {
   "cell_type": "code",
   "execution_count": 24,
   "metadata": {},
   "outputs": [],
   "source": [
    "#extract image IDs and file names\n",
    "image_id_to_name = {img[\"id\"]: img[\"file_name\"] for img in fixed_coco_data[\"images\"]}\n",
    "image_id_to_label = {ann[\"image_id\"]: ann[\"category_id\"] for ann in fixed_coco_data['annotations']}\n",
    "# find images that missing labels\n",
    "missing_labels = [image_id_to_name[i] for i in image_id_to_name.keys() if i not in image_id_to_label]"
   ]
  },
  {
   "cell_type": "code",
   "execution_count": 25,
   "metadata": {},
   "outputs": [
    {
     "name": "stdout",
     "output_type": "stream",
     "text": [
      "all images have labels assigned!\n"
     ]
    }
   ],
   "source": [
    "if missing_labels:\n",
    "    print(f\"{len(missing_labels)} images are missing labels!\")\n",
    "    print(\"example missing labels:\", missing_labels[:100])\n",
    "else:\n",
    "    print(\"all images have labels assigned!\")"
   ]
  },
  {
   "cell_type": "code",
   "execution_count": 26,
   "metadata": {},
   "outputs": [],
   "source": [
    "# count how many images in training folder\n",
    "import os\n",
    "num_train_images = len([f for f in os.listdir(train_path) if f.endswith('.jpg')])\n",
    "num_test_images=len([f for f in os.listdir(test_path) if f.endswith('.jpg')])\n",
    "num_validation_images = len([f for f in os.listdir(validation_path) if f.endswith('.jpg')])"
   ]
  },
  {
   "cell_type": "code",
   "execution_count": 27,
   "metadata": {},
   "outputs": [
    {
     "name": "stdout",
     "output_type": "stream",
     "text": [
      "number of images in training folder: 1502\n",
      "number of images in training folder: 215\n",
      "number of images in training folder: 429\n"
     ]
    }
   ],
   "source": [
    "print(f\"number of images in training folder: {num_train_images}\")\n",
    "print(f\"number of images in training folder: {num_test_images}\")\n",
    "print(f\"number of images in training folder: {num_validation_images}\")"
   ]
  },
  {
   "cell_type": "code",
   "execution_count": 28,
   "metadata": {},
   "outputs": [
    {
     "name": "stdout",
     "output_type": "stream",
     "text": [
      "Image ID: 0, category id: 1\n",
      "Image ID: 1, category id: 1\n",
      "Image ID: 2, category id: 1\n",
      "Image ID: 3, category id: 1\n",
      "Image ID: 4, category id: 1\n",
      "Image ID: 5, category id: 1\n",
      "Image ID: 6, category id: 1\n",
      "Image ID: 7, category id: 2\n",
      "Image ID: 8, category id: 2\n",
      "Image ID: 9, category id: 1\n"
     ]
    }
   ],
   "source": [
    "# check the annotation\n",
    "for annotation in fixed_coco_data[\"annotations\"][:10]:\n",
    "    print(f\"Image ID: {annotation['image_id']}, category id: {annotation['category_id']}\")\n",
    "\n",
    "# note: category id : 1- non-tumor;\n",
    "# note: category id: 2- tumor;"
   ]
  },
  {
   "cell_type": "code",
   "execution_count": 29,
   "metadata": {},
   "outputs": [],
   "source": [
    "import json\n",
    "annotation_valid_file = root + '/valid/_annotations.coco.json'"
   ]
  },
  {
   "cell_type": "code",
   "execution_count": 30,
   "metadata": {},
   "outputs": [],
   "source": [
    "with open(annotation_valid_file, \"r\") as f:\n",
    "    coco_data_valid = json.load(f)\n",
    "\n",
    "# create a dictionary mapping correct image ids from the image section\n",
    "valid_image_ids = {img['id'] for img in coco_data_valid['images']}"
   ]
  },
  {
   "cell_type": "code",
   "execution_count": 31,
   "metadata": {},
   "outputs": [
    {
     "name": "stdout",
     "output_type": "stream",
     "text": [
      "all matches\n"
     ]
    }
   ],
   "source": [
    "# find mismatches: annotation with \"image_id\" values not in the the same as \"id\" values \n",
    "mismatched_valid_annotation = []\n",
    "for annotation_valid in coco_data_valid[\"annotations\"]:\n",
    "    annotation_id = annotation_valid[\"id\"]\n",
    "    image_id = annotation_valid[\"image_id\"]\n",
    "    if annotation_id != image_id:\n",
    "        mismatched_valid_annotation.append((annotation_id, image_id))\n",
    "\n",
    "# print mismatch\n",
    "if mismatched_valid_annotation:\n",
    "    print(\"found annotation where id and image_id are not match:\")\n",
    "    for annotation_id, image_id in mismatched_valid_annotation:\n",
    "        print(f\"annotation id {annotation_id} has image_id {image_id} mismatch\")\n",
    "else:\n",
    "    print(\"all matches\")"
   ]
  },
  {
   "cell_type": "code",
   "execution_count": 32,
   "metadata": {},
   "outputs": [],
   "source": [
    "# check test (unseen) file\n",
    "import json\n",
    "test_annotation_file = root + '/test/_annotations.coco.json'"
   ]
  },
  {
   "cell_type": "code",
   "execution_count": 33,
   "metadata": {},
   "outputs": [],
   "source": [
    "with open(test_annotation_file, \"r\") as f:\n",
    "    coco_data_test = json.load(f)\n",
    "\n",
    "# create a dictionary mapping correct image ids from the image section\n",
    "test_image_ids = {img['id'] for img in coco_data_test['images']}"
   ]
  },
  {
   "cell_type": "code",
   "execution_count": 34,
   "metadata": {},
   "outputs": [
    {
     "name": "stdout",
     "output_type": "stream",
     "text": [
      "all matches\n"
     ]
    }
   ],
   "source": [
    "# find mismatches: annotation with \"image_id\" values not in the the same as \"id\" values \n",
    "mismatched_test_annotation = []\n",
    "for annotation_test in coco_data_test[\"annotations\"]:\n",
    "    annotation_id = annotation_test[\"id\"]\n",
    "    image_id = annotation_test[\"image_id\"]\n",
    "    if annotation_id != image_id:\n",
    "        mismatched_test_annotation.append((annotation_id, image_id))\n",
    "\n",
    "# print mismatch\n",
    "if mismatched_test_annotation:\n",
    "    print(\"found annotation where id and image_id are not match:\")\n",
    "    for annotation_id, image_id in mismatched_test_annotation:\n",
    "        print(f\"annotation id {annotation_id} has image_id {image_id} mismatch\")\n",
    "else:\n",
    "    print(\"all matches\")"
   ]
  }
 ],
 "metadata": {
  "kernelspec": {
   "display_name": "myenv",
   "language": "python",
   "name": "python3"
  },
  "language_info": {
   "codemirror_mode": {
    "name": "ipython",
    "version": 3
   },
   "file_extension": ".py",
   "mimetype": "text/x-python",
   "name": "python",
   "nbconvert_exporter": "python",
   "pygments_lexer": "ipython3",
   "version": "3.9.21"
  }
 },
 "nbformat": 4,
 "nbformat_minor": 2
}
