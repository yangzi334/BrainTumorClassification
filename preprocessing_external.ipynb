{
 "cells": [
  {
   "cell_type": "code",
   "execution_count": 1,
   "id": "6372b4fd",
   "metadata": {},
   "outputs": [],
   "source": [
    "import torch\n",
    "import json\n",
    "import os\n",
    "import shutil\n",
    "import random"
   ]
  },
  {
   "cell_type": "code",
   "execution_count": 2,
   "id": "82079539",
   "metadata": {},
   "outputs": [
    {
     "data": {
      "text/plain": [
       "True"
      ]
     },
     "execution_count": 2,
     "metadata": {},
     "output_type": "execute_result"
    }
   ],
   "source": [
    "# check if GPU is available \n",
    "torch.cuda.is_available()"
   ]
  },
  {
   "cell_type": "code",
   "execution_count": 3,
   "id": "7332eb4e",
   "metadata": {},
   "outputs": [],
   "source": [
    "PROJECT_ROOT = os.getcwd()"
   ]
  },
  {
   "cell_type": "code",
   "execution_count": 4,
   "id": "2b361f96",
   "metadata": {},
   "outputs": [],
   "source": [
    "source_data_dir = os.path.join(PROJECT_ROOT, 'brain tumor external data')\n",
    "target_data_dir = os.path.join(PROJECT_ROOT, 'brain tumor external binary data')"
   ]
  },
  {
   "cell_type": "code",
   "execution_count": 5,
   "id": "48ff7f4e",
   "metadata": {},
   "outputs": [],
   "source": [
    "# create target folders under target_data_dir\n",
    "os.makedirs(os.path.join(target_data_dir, 'tumor'), exist_ok = True)\n",
    "os.makedirs(os.path.join(target_data_dir, 'no_tumor'), exist_ok = True)"
   ]
  },
  {
   "cell_type": "code",
   "execution_count": 6,
   "id": "40e194f4",
   "metadata": {},
   "outputs": [
    {
     "name": "stderr",
     "output_type": "stream",
     "text": [
      "Copying Tumor to tumor: 100%|██████████| 3000/3000 [00:00<00:00, 3103.58it/s]\n"
     ]
    }
   ],
   "source": [
    "\n",
    "from tqdm import tqdm\n",
    "import shutil\n",
    "tumor= ['Tumor']\n",
    "no_tumor= ['Healthy']\n",
    "\n",
    "\n",
    "for folder in tumor:\n",
    "    folder_path = os.path.join(source_data_dir, folder)\n",
    "    for filename in tqdm(os.listdir(folder_path), desc= f\"Copying {folder} to tumor\"):\n",
    "        src = os.path.join(folder_path, filename)\n",
    "        dst = os.path.join(target_data_dir, 'tumor',filename)\n",
    "        shutil.copy(src, dst) # copy the file including its metadata from src to dst "
   ]
  },
  {
   "cell_type": "code",
   "execution_count": 7,
   "id": "dcd1eaf8",
   "metadata": {},
   "outputs": [
    {
     "name": "stderr",
     "output_type": "stream",
     "text": [
      "Copying Healthy to no_tumor: 100%|██████████| 2000/2000 [00:00<00:00, 2543.14it/s]\n"
     ]
    }
   ],
   "source": [
    "for folder in no_tumor:\n",
    "    folder_path = os.path.join(source_data_dir, folder)\n",
    "    for filename in tqdm(os.listdir(folder_path), desc = f'Copying {folder} to no_tumor'):\n",
    "        src = os.path.join(folder_path, filename)\n",
    "        dst = os.path.join(target_data_dir, 'no_tumor', filename)\n",
    "        shutil.copy2(src, dst)"
   ]
  }
 ],
 "metadata": {
  "kernelspec": {
   "display_name": "myenv",
   "language": "python",
   "name": "python3"
  },
  "language_info": {
   "codemirror_mode": {
    "name": "ipython",
    "version": 3
   },
   "file_extension": ".py",
   "mimetype": "text/x-python",
   "name": "python",
   "nbconvert_exporter": "python",
   "pygments_lexer": "ipython3",
   "version": "3.9.21"
  }
 },
 "nbformat": 4,
 "nbformat_minor": 5
}
