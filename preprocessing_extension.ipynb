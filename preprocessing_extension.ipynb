{
 "cells": [
  {
   "cell_type": "code",
   "execution_count": 1,
   "id": "6372b4fd",
   "metadata": {},
   "outputs": [],
   "source": [
    "import torch\n",
    "import json\n",
    "import os\n",
    "import shutil\n",
    "import random"
   ]
  },
  {
   "cell_type": "code",
   "execution_count": 2,
   "id": "82079539",
   "metadata": {},
   "outputs": [
    {
     "data": {
      "text/plain": [
       "True"
      ]
     },
     "execution_count": 2,
     "metadata": {},
     "output_type": "execute_result"
    }
   ],
   "source": [
    "# check if GPU is available \n",
    "torch.cuda.is_available()"
   ]
  },
  {
   "cell_type": "code",
   "execution_count": 3,
   "id": "7332eb4e",
   "metadata": {},
   "outputs": [],
   "source": [
    "PROJECT_ROOT = os.getcwd()"
   ]
  },
  {
   "cell_type": "code",
   "execution_count": 4,
   "id": "2b361f96",
   "metadata": {},
   "outputs": [],
   "source": [
    "source_data_dir = os.path.join(PROJECT_ROOT, 'brain tumor extention data')\n",
    "target_data_dir = os.path.join(PROJECT_ROOT, 'brain tumor extention binary data')"
   ]
  },
  {
   "cell_type": "code",
   "execution_count": 5,
   "id": "48ff7f4e",
   "metadata": {},
   "outputs": [],
   "source": [
    "# create target folders under target_data_dir\n",
    "os.makedirs(os.path.join(target_data_dir, 'tumor'), exist_ok = True)\n",
    "os.makedirs(os.path.join(target_data_dir, 'no_tumor'), exist_ok = True)"
   ]
  },
  {
   "cell_type": "code",
   "execution_count": 6,
   "id": "40e194f4",
   "metadata": {},
   "outputs": [
    {
     "name": "stderr",
     "output_type": "stream",
     "text": [
      "Copying glioma_tumor to tumor: 100%|██████████| 826/826 [00:00<00:00, 14160.68it/s]\n",
      "Copying meningioma_tumor to tumor: 100%|██████████| 822/822 [00:00<00:00, 14557.34it/s]\n",
      "Copying pituitary_tumor to tumor: 100%|██████████| 827/827 [00:00<00:00, 13703.30it/s]\n"
     ]
    }
   ],
   "source": [
    "# mapping 'glioma_tumor', 'meningioma_tumor','pituitary_tumor' to 'tumor_folder' and 'non_tumor' to 'no_tumor folder'.\n",
    "from tqdm import tqdm\n",
    "import shutil\n",
    "tumor= ['glioma_tumor', 'meningioma_tumor', 'pituitary_tumor']\n",
    "no_tumor= ['no_tumor']\n",
    "\n",
    "\n",
    "for folder in tumor:\n",
    "    folder_path = os.path.join(source_data_dir, folder)\n",
    "    for filename in tqdm(os.listdir(folder_path), desc= f\"Copying {folder} to tumor\"):\n",
    "        src = os.path.join(folder_path, filename)\n",
    "        dst = os.path.join(target_data_dir, 'tumor',filename)\n",
    "        shutil.copy(src, dst) # copy the file including its metadata from src to dst "
   ]
  },
  {
   "cell_type": "code",
   "execution_count": 7,
   "id": "dcd1eaf8",
   "metadata": {},
   "outputs": [
    {
     "name": "stderr",
     "output_type": "stream",
     "text": [
      "Copying no_tumor to no_tumor: 100%|██████████| 395/395 [00:00<00:00, 11404.39it/s]\n"
     ]
    }
   ],
   "source": [
    "for folder in no_tumor:\n",
    "    folder_path = os.path.join(source_data_dir, folder)\n",
    "    for filename in tqdm(os.listdir(folder_path), desc = f'Copying {folder} to no_tumor'):\n",
    "        src = os.path.join(folder_path, filename)\n",
    "        dst = os.path.join(target_data_dir, 'no_tumor', filename)\n",
    "        shutil.copy2(src, dst)"
   ]
  },
  {
   "cell_type": "code",
   "execution_count": 8,
   "id": "489ff326",
   "metadata": {},
   "outputs": [],
   "source": [
    "root = os.path.join(PROJECT_ROOT, 'brain tumor extention binary data')"
   ]
  },
  {
   "cell_type": "code",
   "execution_count": 9,
   "id": "d75be2ca",
   "metadata": {},
   "outputs": [],
   "source": [
    "# split data into 'train' 'validation' 'test'\n",
    "random.seed(42)\n",
    "\n",
    "source_dirs = ['tumor', 'no_tumor']\n",
    "target_dirs = ['train', 'validation', 'test']\n",
    "split_ratio = [0.7, 0.15, 0.15]\n"
   ]
  },
  {
   "cell_type": "code",
   "execution_count": 11,
   "id": "f3a63fb1",
   "metadata": {},
   "outputs": [],
   "source": [
    "for category in source_dirs:\n",
    "    category_path = os.path.join(target_data_dir, category)\n",
    "   "
   ]
  },
  {
   "cell_type": "code",
   "execution_count": 12,
   "id": "4fe481b5",
   "metadata": {},
   "outputs": [],
   "source": [
    "for category in source_dirs:\n",
    "    category_path = os.path.join(target_data_dir, category)\n",
    "    files = os.listdir(category_path)\n",
    "    random.shuffle(files)\n",
    "    n_total = len(files)\n",
    "    n_train = int(n_total * split_ratio[0])\n",
    "    n_val = int(n_total * split_ratio[1])\n",
    "    \n",
    "    splits = {\n",
    "        \"train\": files[:n_train],\n",
    "        \"validation\": files[n_train: n_train + n_val],\n",
    "        \"test\": files[n_train + n_val:]\n",
    "    }\n",
    "\n",
    "    for split in target_dirs:\n",
    "        target_folder = os.path.join(split, category)\n",
    "        os.makedirs(target_folder, exist_ok = True)\n",
    "        for file in splits[split]:\n",
    "            src = os.path.join(category_path, file)\n",
    "            dst = os.path.join(target_folder, file)\n",
    "            shutil.copy(src, dst)\n",
    "\n",
    "# now create train (tumor, no_tumor) folders; validation (tumor, no_tumor) folders; test(tumor, no_tumor) folders."
   ]
  }
 ],
 "metadata": {
  "kernelspec": {
   "display_name": "myenv",
   "language": "python",
   "name": "python3"
  },
  "language_info": {
   "codemirror_mode": {
    "name": "ipython",
    "version": 3
   },
   "file_extension": ".py",
   "mimetype": "text/x-python",
   "name": "python",
   "nbconvert_exporter": "python",
   "pygments_lexer": "ipython3",
   "version": "3.9.21"
  }
 },
 "nbformat": 4,
 "nbformat_minor": 5
}
