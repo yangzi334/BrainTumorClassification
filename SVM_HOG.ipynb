{
 "cells": [
  {
   "cell_type": "code",
   "execution_count": 1,
   "id": "f862cdbb",
   "metadata": {},
   "outputs": [],
   "source": [
    "import torch\n",
    "import json\n",
    "import os\n",
    "import shutil\n",
    "import random\n",
    "from skimage.io import imread \n",
    "from skimage.transform import resize\n",
    "from skimage.feature import hog\n",
    "from sklearn.svm import SVC\n",
    "from sklearn.metrics import classification_report"
   ]
  },
  {
   "cell_type": "code",
   "execution_count": 2,
   "id": "1c68817e",
   "metadata": {},
   "outputs": [
    {
     "data": {
      "text/plain": [
       "True"
      ]
     },
     "execution_count": 2,
     "metadata": {},
     "output_type": "execute_result"
    }
   ],
   "source": [
    "# check if GPU is available \n",
    "torch.cuda.is_available()"
   ]
  },
  {
   "cell_type": "code",
   "execution_count": 3,
   "id": "18150b0c",
   "metadata": {},
   "outputs": [],
   "source": [
    "PROJECT_ROOT = os.getcwd()"
   ]
  },
  {
   "cell_type": "code",
   "execution_count": 4,
   "id": "e6f773f9",
   "metadata": {},
   "outputs": [],
   "source": [
    "train_path = PROJECT_ROOT +'/train/'\n",
    "validation_path = PROJECT_ROOT +'/validation/'"
   ]
  },
  {
   "cell_type": "code",
   "execution_count": 5,
   "id": "25340de2",
   "metadata": {},
   "outputs": [],
   "source": [
    "import numpy as np\n",
    "import random"
   ]
  },
  {
   "cell_type": "code",
   "execution_count": 6,
   "id": "a3937ef5",
   "metadata": {},
   "outputs": [],
   "source": [
    "def set_seed(seed=42):\n",
    "    random.seed(seed)\n",
    "    np.random.seed(seed)\n",
    "    torch.manual_seed(seed)\n",
    "    torch.cuda.manual_seed(seed)\n",
    "    torch.backends.cudnn.deterministic = True\n",
    "    torch.backends.cudnn.benchmark = False\n",
    "set_seed(42)"
   ]
  },
  {
   "cell_type": "code",
   "execution_count": 7,
   "id": "9b731880",
   "metadata": {},
   "outputs": [],
   "source": [
    "from glob import glob\n",
    "\n",
    "def load_data(train_path):\n",
    "    image_list = []\n",
    "    label_list = []\n",
    "\n",
    "    label_map = {\n",
    "        'no_tumor': 0,\n",
    "        'tumor': 1\n",
    "    }\n",
    "    \n",
    "    # loop through each label folder\n",
    "    for label_name, label_value in label_map.items():\n",
    "        folder_path = os.path.join(train_path, label_name)\n",
    "\n",
    "        # get images in the folder\n",
    "        image_paths = glob(os.path.join(folder_path, '*'))\n",
    "        for image_path in image_paths:\n",
    "            image_list.append(image_path)\n",
    "            label_list.append(label_value)\n",
    "    return image_list, label_list\n",
    "    "
   ]
  },
  {
   "cell_type": "code",
   "execution_count": 8,
   "id": "35bfabe9",
   "metadata": {},
   "outputs": [],
   "source": [
    "image_list, label_list = load_data(train_path)"
   ]
  },
  {
   "cell_type": "code",
   "execution_count": 9,
   "id": "3a73617e",
   "metadata": {},
   "outputs": [],
   "source": [
    "# extract HOG features\n",
    "def extract_hog_features(train_path, img_size=(128,128)):\n",
    "    features = []\n",
    "    feature_length_printed = False\n",
    "    for path in train_path:\n",
    "        try:\n",
    "            image = imread(path, as_gray=True)\n",
    "            image = resize(image, img_size)\n",
    "            hog_feature = hog(image, pixels_per_cell=(16,16), cells_per_block=(2,2), feature_vector=True)\n",
    "            if not feature_length_printed:\n",
    "                feature_length_printed = True\n",
    "            features.append(hog_feature)   \n",
    "               \n",
    "        except Exception as e:\n",
    "            print(f\"Fail to process {path}: {e}\")\n",
    "    \n",
    "    return np.array(features)"
   ]
  },
  {
   "cell_type": "code",
   "execution_count": 10,
   "id": "b964bd63",
   "metadata": {},
   "outputs": [
    {
     "name": "stdout",
     "output_type": "stream",
     "text": [
      "\n",
      "===== Run 1 =====\n",
      "              precision    recall  f1-score   support\n",
      "\n",
      "           0       0.91      0.83      0.87        59\n",
      "           1       0.97      0.99      0.98       371\n",
      "\n",
      "    accuracy                           0.97       430\n",
      "   macro avg       0.94      0.91      0.92       430\n",
      "weighted avg       0.96      0.97      0.96       430\n",
      "\n",
      "Accuracy for run 1: 0.9651\n",
      "save best SVM + HOG model\n",
      "\n",
      "===== Run 2 =====\n",
      "              precision    recall  f1-score   support\n",
      "\n",
      "           0       0.91      0.83      0.87        59\n",
      "           1       0.97      0.99      0.98       371\n",
      "\n",
      "    accuracy                           0.97       430\n",
      "   macro avg       0.94      0.91      0.92       430\n",
      "weighted avg       0.96      0.97      0.96       430\n",
      "\n",
      "Accuracy for run 2: 0.9651\n",
      "\n",
      "===== Run 3 =====\n",
      "              precision    recall  f1-score   support\n",
      "\n",
      "           0       0.91      0.83      0.87        59\n",
      "           1       0.97      0.99      0.98       371\n",
      "\n",
      "    accuracy                           0.97       430\n",
      "   macro avg       0.94      0.91      0.92       430\n",
      "weighted avg       0.96      0.97      0.96       430\n",
      "\n",
      "Accuracy for run 3: 0.9651\n",
      "\n",
      "Best model saved to: SVM_HOG/best_svm_hog_model.pkl\n",
      "\n",
      "Duration: 75 seconds\n",
      "\n",
      "=== Final Averaged Result ===\n",
      "Validation Accuracy: 0.9651 +- 0.0000\n"
     ]
    }
   ],
   "source": [
    "import os\n",
    "import random\n",
    "from sklearn.metrics import classification_report, accuracy_score\n",
    "import numpy as np\n",
    "from sklearn.svm import SVC\n",
    "from joblib import dump\n",
    "import time\n",
    "from tqdm import tqdm\n",
    "\n",
    "save_dir_svm = os.path.join(PROJECT_ROOT, 'SVM_HOG')\n",
    "os.makedirs(save_dir_svm, exist_ok = True)\n",
    "\n",
    "num_runs = 3\n",
    "accuracies = []\n",
    "best_acc = 0.0\n",
    "best_model = None\n",
    "start_time = time.time()\n",
    "\n",
    "for run in range(num_runs):\n",
    "    print(f\"\\n===== Run {run + 1} =====\")\n",
    "    random.seed(42 + run)\n",
    "    # load training data\n",
    "    X_train_paths, y_train = load_data(train_path)\n",
    "    combined_train = list(zip(X_train_paths, y_train))\n",
    "    random.shuffle(combined_train)\n",
    "    X_train_paths, y_train = zip(*combined_train)\n",
    "\n",
    "    X_val_paths, y_val = load_data(validation_path)\n",
    "    combined_val = list(zip(X_val_paths, y_val))\n",
    "    random.shuffle(combined_val)\n",
    "    X_val_paths, y_val = zip(*combined_val)\n",
    "\n",
    "    # extract HOG features\n",
    "    X_train = extract_hog_features(X_train_paths)\n",
    "    X_val = extract_hog_features(X_val_paths)\n",
    "\n",
    "    # train SVM classifier\n",
    "    clf = SVC(kernel='linear', probability=True)\n",
    "    clf.fit(X_train, y_train)\n",
    "\n",
    "    y_pred = clf.predict(X_val)\n",
    "    acc = accuracy_score(y_val, y_pred)\n",
    "    print(classification_report(y_val, y_pred))\n",
    "    accuracies.append(acc)\n",
    "\n",
    "    print(f\"Accuracy for run {run + 1}: {acc:.4f}\")\n",
    "\n",
    "    # track the best model\n",
    "    if acc > best_acc:\n",
    "        best_acc = acc\n",
    "        best_model = clf\n",
    "        print('save best SVM + HOG model')\n",
    "\n",
    "# save the best model\n",
    "model_save_path= os.path.join(save_dir_svm, 'best_svm_hog_model.pkl')\n",
    "dump(best_model, model_save_path)\n",
    "# Print relative path only\n",
    "print(\"\\nBest model saved to:\", os.path.relpath(model_save_path))\n",
    "\n",
    "\n",
    "print(f'\\nDuration: {time.time() - start_time:.0f} seconds') # Print time elapsed\n",
    "\n",
    "# final result\n",
    "print(\"\\n=== Final Averaged Result ===\")\n",
    "print(f\"Validation Accuracy: {np.mean(accuracies):.4f} +- {np.std(accuracies):.4f}\")\n"
   ]
  },
  {
   "cell_type": "code",
   "execution_count": 11,
   "id": "66e949e7",
   "metadata": {},
   "outputs": [
    {
     "data": {
      "image/png": "[encoded data removed]",
      "text/plain": [
       "<Figure size 600x400 with 2 Axes>"
      ]
     },
     "metadata": {},
     "output_type": "display_data"
    }
   ],
   "source": [
    "# confusion matrix\n",
    "import matplotlib.pyplot as plt\n",
    "from sklearn.metrics import confusion_matrix\n",
    "import seaborn as sns\n",
    "\n",
    "cm = confusion_matrix(y_val, y_pred)\n",
    "plt.figure(figsize=(6,4))\n",
    "sns.heatmap(cm, annot=True, fmt='d', cmap='Blues',\n",
    "            xticklabels=['Non-Tumor', 'Tumor'],\n",
    "            yticklabels=['Non-Tumor','Tumor'])\n",
    "plt.xlabel('Predicted Label')\n",
    "plt.ylabel('True Label')\n",
    "plt.title('')\n",
    "plt.tight_layout()\n",
    "plt.show()"
   ]
  },
  {
   "cell_type": "code",
   "execution_count": 12,
   "id": "b57b61b1",
   "metadata": {},
   "outputs": [],
   "source": [
    "no_tumor_train_image = []\n",
    "for i, label in enumerate(y_train):\n",
    "    if label == 0:\n",
    "        non_tumor_image_train_path = X_train_paths[i]\n",
    "        no_tumor_train_image.append(non_tumor_image_train_path)\n",
    "        "
   ]
  },
  {
   "cell_type": "code",
   "execution_count": 13,
   "id": "729e35e7",
   "metadata": {},
   "outputs": [
    {
     "data": {
      "text/plain": [
       "276"
      ]
     },
     "execution_count": 13,
     "metadata": {},
     "output_type": "execute_result"
    }
   ],
   "source": [
    "len(no_tumor_train_image)"
   ]
  },
  {
   "cell_type": "code",
   "execution_count": 14,
   "id": "f0981a23",
   "metadata": {},
   "outputs": [],
   "source": [
    "tumor_train_image = []\n",
    "for i, label in enumerate(y_train):\n",
    "    if label == 1:\n",
    "        tumor_image_train_path = X_train_paths[i]\n",
    "        tumor_train_image.append(tumor_image_train_path)"
   ]
  },
  {
   "cell_type": "code",
   "execution_count": 15,
   "id": "357e0e93",
   "metadata": {},
   "outputs": [
    {
     "data": {
      "text/plain": [
       "1732"
      ]
     },
     "execution_count": 15,
     "metadata": {},
     "output_type": "execute_result"
    }
   ],
   "source": [
    "len(tumor_train_image)"
   ]
  }
 ],
 "metadata": {
  "kernelspec": {
   "display_name": "myenv",
   "language": "python",
   "name": "python3"
  },
  "language_info": {
   "codemirror_mode": {
    "name": "ipython",
    "version": 3
   },
   "file_extension": ".py",
   "mimetype": "text/x-python",
   "name": "python",
   "nbconvert_exporter": "python",
   "pygments_lexer": "ipython3",
   "version": "3.9.21"
  }
 },
 "nbformat": 4,
 "nbformat_minor": 5
}
